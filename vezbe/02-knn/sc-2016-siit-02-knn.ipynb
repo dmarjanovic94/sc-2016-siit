{
 "cells": [
  {
   "cell_type": "markdown",
   "metadata": {},
   "source": [
    "# Soft kompjuting\n",
    "\n",
    "## Vežba 2 - KNN klasifikator"
   ]
  },
  {
   "cell_type": "markdown",
   "metadata": {},
   "source": [
    "## Zadaci\n",
    "\n",
    "1. Implementirati KNN klasifikator u fajlu ```src/knn_classifier.py```. Voditi se video materijalom i ako je potrebno WIKI stranicom https://en.wikipedia.org/wiki/K-nearest_neighbors_algorithm. (0.5 bodova)\n",
    "\n",
    "2. Iskoristiti implementiran KNN klasifikator za rešavanje problema klasifikacije **osnovnih geometrijskih oblika (ali rukom crtanih!)**. Za potrebe ovog zadatka je neophodno koristiti osobine regiona (pogledati prethodne vežbe), a koje ćete osobine koristiti razmislite sami :). (1 bod)\n",
    "    * Podaci za obučavanje se nalaze u ```data/train```\n",
    "    * Podaci za testiranje se nalaze u ```data/test```\n",
    "    * Nad podacima za testiranje evaluirati rešenje, tj. ispisati u konzoli tačnost (*accuracy*) prepoznavanja.\n",
    "    \n",
    "3. Iskoristiti implementiran KNN klasifikator za rešavanje problema klasifikacije nad **MNIST** podacima (rukom pisane cifre). (1 bod)\n",
    "    * Prvo rešiti zadatak korišćenjem osobina regiona (možete iskoristiti prethodni zadatak, naravno verovatno uz promene koje ćete osobine koristiti)\n",
    "    * Zatim rešite zadatak transformisanjem slike cifre u vektor (28x28 = 768 elemenata), gde ćete svaki ovaj vektor posmatrati kao ulazni podatak.\n",
    "    * Izvršite evaluaciju za oba rešenja, tj. ispišite tačnost prepoznavanja u konzoli.\n",
    "    * Kod za dobavaljanje MNIST podataka kroz **scikit-learn**:"
   ]
  },
  {
   "cell_type": "code",
   "execution_count": null,
   "metadata": {
    "collapsed": true
   },
   "outputs": [],
   "source": [
    "from sklearn.datasets import fetch_mldata\n",
    "mnist = fetch_mldata('MNIST original')"
   ]
  },
  {
   "cell_type": "markdown",
   "metadata": {},
   "source": [
    "### Dodatno\n",
    "\n",
    "Najveći nedostatak KNN algoritma je to što je prilikom klasifikacije neophodno izračunati udaljenost od *svakog podatka* iz obučavajućeg skupa. Ovo je zanemarljivo kada su u pitanju mali podaci (npr. u 2. zadatku), ali čim ima više podataka (npr. u 3. zadatku), neefikasna implementacija se može primetiti kroz sporo izvršavanje programa.\n",
    "\n",
    "Kao dodatni zadatak probajte da optimizujete KNN klasifikaciju (kako god znate i umete). Optimizovanu implementaciju uporedite sa naivnom (osnovnom) implementacijom iz 1. zadatka. Vašu optimizaciju evaluirajte nad MNIST podacima. (1 bod za najbrže rešenje)"
   ]
  }
 ],
 "metadata": {
  "kernelspec": {
   "display_name": "Python 2",
   "language": "python",
   "name": "python2"
  },
  "language_info": {
   "codemirror_mode": {
    "name": "ipython",
    "version": 2
   },
   "file_extension": ".py",
   "mimetype": "text/x-python",
   "name": "python",
   "nbconvert_exporter": "python",
   "pygments_lexer": "ipython2",
   "version": "2.7.11"
  }
 },
 "nbformat": 4,
 "nbformat_minor": 0
}
